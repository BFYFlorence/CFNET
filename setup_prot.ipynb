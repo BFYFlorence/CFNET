{
 "cells": [
  {
   "cell_type": "code",
   "execution_count": 1,
   "metadata": {},
   "outputs": [
    {
     "name": "stdout",
     "output_type": "stream",
     "text": [
      "Pytorch version:  1.8.1\n"
     ]
    }
   ],
   "source": [
    "# ********************Import Modules-1\n",
    "import os\n",
    "from my_rbf import RBF\n",
    "from distances import EuclideanDistances\n",
    "from my_utils import *\n",
    "import torch\n",
    "from CFNET import CFnet\n",
    "from preprocess import *\n",
    "# import torch.autograd\n",
    "import torch.utils.data as data\n",
    "import torch.optim as optim\n",
    "import random\n",
    "import sys\n",
    "print(\"Pytorch version: \", torch.__version__)\n",
    "torch.set_printoptions(threshold=10, sci_mode=False)\n",
    "# def setup_seed(seed):\n",
    "#      torch.manual_seed(seed)\n",
    "#      torch.cuda.manual_seed_all(seed)\n",
    "#      np.random.seed(seed)\n",
    "#      random.seed(seed)\n",
    "#      torch.backends.cudnn.deterministic = True\n",
    "# setup_seed(1997)"
   ]
  },
  {
   "cell_type": "code",
   "execution_count": 2,
   "metadata": {},
   "outputs": [
    {
     "name": "stdout",
     "output_type": "stream",
     "text": [
      "Current device:  GeForce RTX 3090\n"
     ]
    }
   ],
   "source": [
    "# ********************Configure-2\n",
    "\n",
    "# os.environ['KMP_DUPLICATE_LIB_OK']='True'\n",
    "os.environ['OMP_NUM_THREADS']='1'\n",
    "device = torch.device('cuda:'+str(1))\n",
    "# print(device)\n",
    "torch.cuda.set_device(device)\n",
    "print(\"Current device: \", torch.cuda.get_device_name(0))"
   ]
  },
  {
   "cell_type": "code",
   "execution_count": 3,
   "metadata": {},
   "outputs": [],
   "source": [
    "# ********************Initialize molecules' properties and indices-3\n",
    "\n",
    "Z_np = np.array([14, 12, 12, 16, 12, 12, 16, 14, 12, 12, 16, 12, 16, 14, 12, 12, 16, 12, 12, 14, 16, 1, 1, 1, 1, 1, 14, 12, 12, 16, 12, 12, 16, 1, 1, 1, 1, 1, 1, 1, 14, 12, 12, 16, 12, 12, 12, 12, 1, 1, 1, 1, 1, 1, 1, 1, 1, 1, 1, 14, 12, 12, 16, 12, 12, 12, 14, 12, 14, 14, 1, 1, 1, 1, 1, 1, 1, 1, 1, 1, 1, 1, 1, 14, 12, 12, 16, 12, 12, 12, 1, 1, 1, 1, 1, 1, 1, 1, 1, 14, 12, 12, 16, 12, 12, 12, 12, 12, 12, 12, 1, 1, 1, 1, 1, 1, 1, 1, 1, 14, 12, 12, 16, 12, 12, 12, 12, 1, 1, 1, 1, 1, 1, 1, 1, 1, 1, 1, 14, 12, 12, 16, 12, 12, 12, 1, 1, 1, 1, 1, 1, 1, 14, 12, 12, 16, 12, 12, 14, 16, 1, 1, 1, 1, 1, 1, 14, 12, 12, 16, 12, 12, 12, 12, 14, 1, 1, 1, 1, 1, 1, 1, 1, 1, 1, 1, 1, 1, 14, 12, 12, 16, 12, 12, 12, 14, 16, 1, 1, 1, 1, 1, 1, 1, 1, 14, 12, 12, 16, 12, 12, 12, 14, 12, 14, 14, 1, 1, 1, 1, 1, 1, 1, 1, 1, 1, 1, 1, 1, 14, 12, 12, 16, 12, 12, 16, 1, 1, 1, 1, 1, 1, 1, 14, 12, 12, 16, 12, 12, 12, 1, 1, 1, 1, 1, 1, 1, 1, 1, 14, 12, 12, 16, 12, 12, 12, 1, 1, 1, 1, 1, 1, 1, 1, 1, 14, 12, 12, 16, 12, 12, 14, 16, 1, 1, 1, 1, 1, 1, 14, 12, 12, 16, 12, 12, 12, 1, 1, 1, 1, 1, 1, 1, 1, 1, 14, 12, 12, 16, 12, 12, 12, 14, 12, 14, 14, 1, 1, 1, 1, 1, 1, 1, 1, 1, 1, 1, 1, 1, 14, 12, 12, 16, 12, 12, 14, 16, 1, 1, 1, 1, 1, 1, 14, 12, 12, 16, 1, 1, 1, 14, 12, 12, 16, 12, 12, 32, 12, 1, 1, 1, 1, 1, 1, 1, 1, 1, 14, 12, 12, 16, 12, 16, 1, 1, 1, 1, 1, 14, 12, 12, 16, 12, 12, 12, 12, 1, 1, 1, 1, 1, 1, 1, 1, 1, 1, 1, 14, 12, 12, 16, 12, 12, 12, 14, 12, 14, 1, 1, 1, 1, 1, 1, 1, 14, 12, 12, 16, 12, 12, 16, 16, 1, 1, 1, 1, 14, 12, 12, 16, 12, 32, 1, 1, 1, 1, 1, 14, 12, 12, 16, 12, 12, 12, 12, 1, 1, 1, 1, 1, 1, 1, 1, 1, 1, 1, 14, 12, 12, 16, 12, 12, 32, 12, 1, 1, 1, 1, 1, 1, 1, 1, 1, 14, 12, 12, 16, 12, 12, 12, 12, 14, 1, 1, 1, 1, 1, 1, 1, 1, 1, 1, 1, 1, 1, 14, 12, 12, 16, 12, 1, 1, 1, 1, 1, 14, 12, 12, 16, 12, 12, 12, 12, 1, 1, 1, 1, 1, 1, 1, 1, 1, 1, 1, 14, 12, 12, 16, 12, 12, 12, 12, 14, 1, 1, 1, 1, 1, 1, 1, 1, 1, 1, 1, 1, 1, 14, 12, 12, 16, 12, 12, 12, 1, 1, 1, 1, 1, 1, 1, 1, 1, 14, 12, 12, 16, 12, 12, 12, 14, 12, 14, 14, 1, 1, 1, 1, 1, 1, 1, 1, 1, 1, 1, 1, 1, 14, 12, 12, 16, 1, 1, 1, 14, 12, 12, 16, 12, 12, 12, 12, 1, 1, 1, 1, 1, 1, 1, 1, 1, 1, 1, 14, 12, 12, 16, 12, 12, 12, 14, 16, 1, 1, 1, 1, 1, 1, 1, 1, 14, 12, 12, 16, 12, 12, 12, 1, 1, 1, 1, 1, 1, 1, 14, 12, 12, 16, 12, 12, 12, 16, 16, 1, 1, 1, 1, 1, 1, 14, 12, 12, 16, 12, 32, 1, 1, 1, 1, 1, 14, 12, 12, 16, 12, 32, 1, 1, 1, 1, 1, 14, 12, 12, 16, 12, 1, 1, 1, 1, 1, 14, 12, 12, 16, 12, 12, 12, 1, 1, 1, 1, 1, 1, 1, 1, 1, 14, 12, 12, 16, 12, 12, 12, 12, 12, 12, 12, 1, 1, 1, 1, 1, 1, 1, 1, 1, 14, 12, 12, 16, 12, 12, 12, 14, 12, 14, 14, 1, 1, 1, 1, 1, 1, 1, 1, 1, 1, 1, 1, 1, 14, 12, 12, 16, 12, 12, 12, 12, 1, 1, 1, 1, 1, 1, 1, 1, 1, 1, 1, 14, 12, 12, 16, 12, 12, 12, 12, 1, 1, 1, 1, 1, 1, 1, 1, 1, 1, 1, 14, 12, 12, 16, 1, 12, 12, 14, 12, 14, 12, 14, 12, 12, 16, 12, 12, 12, 16, 16, 1, 1, 1, 1, 1, 1, 14, 12, 12, 16, 12, 12, 12, 14, 12, 14, 1, 1, 1, 1, 1, 1, 1, 14, 12, 12, 16, 12, 12, 12, 12, 14, 1, 1, 1, 1, 1, 1, 1, 1, 1, 1, 1, 1, 1, 14, 12, 12, 16, 1, 1, 1, 14, 12, 12, 16, 12, 12, 12, 12, 14, 1, 1, 1, 1, 1, 1, 1, 1, 1, 1, 1, 1, 1, 14, 12, 12, 16, 12, 12, 12, 12, 14, 1, 1, 1, 1, 1, 1, 1, 1, 1, 1, 1, 1, 1, 14, 12, 12, 16, 12, 1, 1, 1, 1, 1, 14, 12, 12, 16, 12, 12, 12, 14, 12, 14, 14, 1, 1, 1, 1, 1, 1, 1, 1, 1, 1, 1, 1, 1, 14, 12, 12, 16, 12, 12, 12, 12, 1, 1, 1, 1, 1, 1, 1, 1, 1, 1, 1, 14, 12, 12, 16, 12, 12, 16, 16, 1, 1, 1, 1, 14, 12, 12, 16, 12, 12, 12, 12, 12, 12, 14, 12, 12, 12, 1, 1, 1, 1, 1, 1, 1, 1, 1, 1, 14, 12, 12, 16, 12, 12, 14, 16, 1, 1, 1, 1, 1, 1, 14, 12, 12, 16, 12, 12, 16, 1, 1, 1, 1, 1, 1, 1, 14, 12, 12, 16, 12, 12, 16, 16, 1, 1, 1, 1, 14, 12, 12, 16, 12, 1, 1, 1, 1, 1, 14, 12, 12, 16, 12, 1, 1, 1, 1, 1, 14, 12, 12, 16, 12, 16, 1, 1, 1, 1, 1, 14, 12, 12, 16, 12, 12, 12, 12, 1, 1, 1, 1, 1, 1, 1, 1, 1, 1, 1, 14, 12, 12, 16, 12, 12, 12, 12, 1, 1, 1, 1, 1, 1, 1, 1, 1, 1, 1, 14, 12, 12, 16, 1, 1, 1, 14, 12, 12, 16, 12, 12, 12, 16, 16, 1, 1, 1, 1, 1, 1, 14, 12, 12, 16, 12, 12, 12, 16, 16, 1, 1, 1, 1, 1, 1, 14, 12, 12, 16, 12, 12, 12, 12, 1, 1, 1, 1, 1, 1, 1, 1, 1, 1, 1, 14, 12, 12, 16, 12, 12, 12, 14, 16, 1, 1, 1, 1, 1, 1, 1, 1, 14, 12, 12, 16, 12, 12, 12, 1, 1, 1, 1, 1, 1, 1, 1, 1, 14, 12, 12, 16, 12, 12, 16, 16, 1, 1, 1, 1, 14, 12, 12, 16, 12, 12, 12, 12, 12, 12, 12, 1, 1, 1, 1, 1, 1, 1, 1, 1, 14, 12, 12, 16, 12, 12, 12, 12, 1, 1, 1, 1, 1, 1, 1, 1, 1, 1, 1])\n",
    "batch_size = 1\n",
    "nATOM = len(Z_np)  # the number of atoms\n",
    "epochs = 1000\n",
    "Z_ts = torch.tile(torch.tensor(Z_np.ravel(), dtype=torch.int64),(batch_size,))\n",
    "\n",
    "# --------------model initialization\n",
    "nFM = 64  # the number of feature maps\n",
    "cutoff = 30.  # rbf, the range of distances\n",
    "gap = 0.1  # rbf, the interval of centers\n",
    "n_embeddings = 2000\n",
    "n_interactions = 3\n",
    "# ---------------\n",
    "\n",
    "crystal_WT_test_cor = np.load(\"/home/caofan/RAF/crystal_WT/test/deepNN/cor_set_1.npy\", allow_pickle=True)\n",
    "Pot_array = np.load(\"/home/caofan/RAF/crystal_WT/test/deepNN/potential_1.npy\", allow_pickle=True)\n",
    "\n",
    "Pot_ts = torch.tensor(Pot_array)\n",
    "\n",
    "# Assignment grad\n",
    "R_ts = torch.tensor(crystal_WT_test_cor, requires_grad=True)\n",
    "\n",
    "R_ts = R_ts.cuda() # out-of-place\n",
    "E_ts = Pot_ts.cuda()\n",
    "Z_ts = Z_ts.cuda()\n",
    "\n",
    "train_size = int(len(Pot_array) * 0.8)\n",
    "test_size = int(len(Pot_array) * 0.2)\n",
    "\n",
    "data_pool = dataset(R_ts.float(), E_ts.float())\n",
    "train_set, test_set = data.random_split(data_pool, [train_size, test_size])\n",
    "\n",
    "train_loader = data.DataLoader(\n",
    "        dataset=train_set,\n",
    "        batch_size=batch_size,\n",
    "        shuffle=True,\n",
    "        num_workers=0,  # whether read data using MPI\n",
    "    )\n",
    "\n",
    "test_loader = data.DataLoader(\n",
    "        dataset=test_set,\n",
    "        batch_size=test_size,\n",
    "        shuffle=True,\n",
    "        num_workers=0,  # whether read data using MPI\n",
    "    )"
   ]
  },
  {
   "cell_type": "code",
   "execution_count": 4,
   "metadata": {},
   "outputs": [],
   "source": [
    "# ********************Initialize CFNET-4\n",
    "cfnet = CFnet(n_interactions=n_interactions, nFM=nFM, cutoff=cutoff, gap=gap, n_embeddings=n_embeddings, gpu=True).cuda()\n",
    "optimizer = optim.Adam(cfnet.parameters(), lr=0.00001)\n",
    "lr_scheduler = optim.lr_scheduler.CosineAnnealingLR(optimizer, T_max=20, eta_min=0.00001)\n",
    "dir = \"train_model_pro\"\n",
    "checkpoint_path = './{0}/'.format(dir)\n",
    "if not os.path.exists(os.getcwd()+dir):\n",
    "    os.system(\"mkdir ./{0}\".format(dir))\n",
    "\n",
    "def train():\n",
    "    for epoch in range(epochs):\n",
    "        for step, (R, E) in enumerate(train_loader):\n",
    "            R = torch.squeeze(R)\n",
    "            # keep grad\n",
    "            R.retain_grad()\n",
    "            mols = molecules(nATOM, Z_ts, R, batch_size)\n",
    "\n",
    "            # idx_ik = seg_i\n",
    "            idx_ik = mols[\"idx_ik\"].cuda()  # [0, 0, 0, 0, 1, 1, 1, 1, 2, 2, 2, 2, 3, 3, 3, 3, 4, 4, 4, 4]\n",
    "\n",
    "            # idx_jk = idx_j  [1, 2, 3, 4, 0, 2, 3, 4, 0, 1, 3, 4, 0, 1, 2, 4, 0, 1, 2, 3]\n",
    "            idx_jk = mols[\"idx_jk\"].cuda()\n",
    "            # print(\"idx_jk:\", idx_jk, idx_cfnetjk.shape)\n",
    "            offset = mols[\"offset\"].cuda()  # [20, 3]  [[0.,0.,0.,],...,[0.,0.,0.,]]\n",
    "\n",
    "            # [0,...19]\n",
    "            seg_j = mols[\"seg_j\"].cuda()  # 距离索引\n",
    "            seg_i_sum = mols[\"seg_i_sum\"].cuda()  # [ 0,  4,  8, 12, 16]\n",
    "            seg_m = mols[\"seg_m\"].cuda()\n",
    "\n",
    "            ratio_j = torch.tensor(1., dtype=torch.float32).cuda()\n",
    "            rho = torch.tensor(.01, dtype=torch.float32).cuda()\n",
    "            cfnet.zero_grad()\n",
    "            Ep = cfnet(z=Z_ts, r=R, offsets=offset, idx_ik=idx_ik, idx_jk=idx_jk, idx_j=idx_jk, seg_m=seg_m, seg_i=idx_ik,\n",
    "                       seg_j=seg_j, ratio_j=ratio_j, seg_i_sum=seg_i_sum)\n",
    "            # Ep = Ep.requires_grad_(True)\n",
    "            Ep.backward(retain_graph=True)\n",
    "            Fp = -R.grad\n",
    "            optimizer.zero_grad()\n",
    "\n",
    "            loss, errors = CalLoss(Ep, Fp, E, None, rho, fit_forces=False)\n",
    "\n",
    "            loss.backward()\n",
    "\n",
    "            optimizer.step()\n",
    "            print(\" ===============================\\n\",\n",
    "                  \"${:^6}|{:^21d}||\\n\".format(\"epochs\", epoch),\n",
    "                  \"-------------------------------\\n\",\n",
    "                  \"${:^6}|{:^21d}||\\n\".format(\"step\", step),\n",
    "                  \"-------------------------------\\n\",\n",
    "                  \"${:^6}|{:^21f}||\\n\".format(\"loss\", loss),\n",
    "                  # \"-------------------------------\\n\",\n",
    "                  # \"${:^6}|{:^21f}||\\n\".format(\"acc\", acc),\n",
    "                  \"===============================\\n\")\n",
    "\n",
    "            if step % 5000 == 0:\n",
    "                lowest_loss = loss\n",
    "                torch.save({'epoch': epoch + 1,\n",
    "                            'state_dict': cfnet.state_dict(),\n",
    "                            'best_loss': lowest_loss,\n",
    "                            'optimizer': optimizer.state_dict()},\n",
    "                            checkpoint_path + 'm-' + str(\"%.4f\" % lowest_loss) + '.pth.tar')\n",
    "                torch.save(cfnet, './{0}/model_test.pt'.format(dir))\n",
    "\n",
    "        lr_scheduler.step()  # update learning rate"
   ]
  },
  {
   "cell_type": "code",
   "execution_count": 5,
   "metadata": {},
   "outputs": [
    {
     "ename": "RuntimeError",
     "evalue": "CUDA out of memory. Tried to allocate 1.72 GiB (GPU 1; 23.70 GiB total capacity; 15.94 GiB already allocated; 568.69 MiB free; 16.24 GiB reserved in total by PyTorch)",
     "output_type": "error",
     "traceback": [
      "\u001b[0;31m---------------------------------------------------------------------------\u001b[0m",
      "\u001b[0;31mRuntimeError\u001b[0m                              Traceback (most recent call last)",
      "\u001b[0;32m<ipython-input-5-2da0ffaf5447>\u001b[0m in \u001b[0;36m<module>\u001b[0;34m\u001b[0m\n\u001b[0;32m----> 1\u001b[0;31m \u001b[0mtrain\u001b[0m\u001b[0;34m(\u001b[0m\u001b[0;34m)\u001b[0m\u001b[0;34m\u001b[0m\u001b[0;34m\u001b[0m\u001b[0m\n\u001b[0m",
      "\u001b[0;32m<ipython-input-4-bd3dca32f084>\u001b[0m in \u001b[0;36mtrain\u001b[0;34m()\u001b[0m\n\u001b[1;32m     35\u001b[0m                        seg_j=seg_j, ratio_j=ratio_j, seg_i_sum=seg_i_sum)\n\u001b[1;32m     36\u001b[0m             \u001b[0;31m# Ep = Ep.requires_grad_(True)\u001b[0m\u001b[0;34m\u001b[0m\u001b[0;34m\u001b[0m\u001b[0;34m\u001b[0m\u001b[0m\n\u001b[0;32m---> 37\u001b[0;31m             \u001b[0mEp\u001b[0m\u001b[0;34m.\u001b[0m\u001b[0mbackward\u001b[0m\u001b[0;34m(\u001b[0m\u001b[0mretain_graph\u001b[0m\u001b[0;34m=\u001b[0m\u001b[0;32mTrue\u001b[0m\u001b[0;34m)\u001b[0m\u001b[0;34m\u001b[0m\u001b[0;34m\u001b[0m\u001b[0m\n\u001b[0m\u001b[1;32m     38\u001b[0m             \u001b[0mFp\u001b[0m \u001b[0;34m=\u001b[0m \u001b[0;34m-\u001b[0m\u001b[0mR\u001b[0m\u001b[0;34m.\u001b[0m\u001b[0mgrad\u001b[0m\u001b[0;34m\u001b[0m\u001b[0;34m\u001b[0m\u001b[0m\n\u001b[1;32m     39\u001b[0m             \u001b[0moptimizer\u001b[0m\u001b[0;34m.\u001b[0m\u001b[0mzero_grad\u001b[0m\u001b[0;34m(\u001b[0m\u001b[0;34m)\u001b[0m\u001b[0;34m\u001b[0m\u001b[0;34m\u001b[0m\u001b[0m\n",
      "\u001b[0;32m~/miniconda3/envs/tf/lib/python3.7/site-packages/torch/tensor.py\u001b[0m in \u001b[0;36mbackward\u001b[0;34m(self, gradient, retain_graph, create_graph, inputs)\u001b[0m\n\u001b[1;32m    243\u001b[0m                 \u001b[0mcreate_graph\u001b[0m\u001b[0;34m=\u001b[0m\u001b[0mcreate_graph\u001b[0m\u001b[0;34m,\u001b[0m\u001b[0;34m\u001b[0m\u001b[0;34m\u001b[0m\u001b[0m\n\u001b[1;32m    244\u001b[0m                 inputs=inputs)\n\u001b[0;32m--> 245\u001b[0;31m         \u001b[0mtorch\u001b[0m\u001b[0;34m.\u001b[0m\u001b[0mautograd\u001b[0m\u001b[0;34m.\u001b[0m\u001b[0mbackward\u001b[0m\u001b[0;34m(\u001b[0m\u001b[0mself\u001b[0m\u001b[0;34m,\u001b[0m \u001b[0mgradient\u001b[0m\u001b[0;34m,\u001b[0m \u001b[0mretain_graph\u001b[0m\u001b[0;34m,\u001b[0m \u001b[0mcreate_graph\u001b[0m\u001b[0;34m,\u001b[0m \u001b[0minputs\u001b[0m\u001b[0;34m=\u001b[0m\u001b[0minputs\u001b[0m\u001b[0;34m)\u001b[0m\u001b[0;34m\u001b[0m\u001b[0;34m\u001b[0m\u001b[0m\n\u001b[0m\u001b[1;32m    246\u001b[0m \u001b[0;34m\u001b[0m\u001b[0m\n\u001b[1;32m    247\u001b[0m     \u001b[0;32mdef\u001b[0m \u001b[0mregister_hook\u001b[0m\u001b[0;34m(\u001b[0m\u001b[0mself\u001b[0m\u001b[0;34m,\u001b[0m \u001b[0mhook\u001b[0m\u001b[0;34m)\u001b[0m\u001b[0;34m:\u001b[0m\u001b[0;34m\u001b[0m\u001b[0;34m\u001b[0m\u001b[0m\n",
      "\u001b[0;32m~/miniconda3/envs/tf/lib/python3.7/site-packages/torch/autograd/__init__.py\u001b[0m in \u001b[0;36mbackward\u001b[0;34m(tensors, grad_tensors, retain_graph, create_graph, grad_variables, inputs)\u001b[0m\n\u001b[1;32m    145\u001b[0m     Variable._execution_engine.run_backward(\n\u001b[1;32m    146\u001b[0m         \u001b[0mtensors\u001b[0m\u001b[0;34m,\u001b[0m \u001b[0mgrad_tensors_\u001b[0m\u001b[0;34m,\u001b[0m \u001b[0mretain_graph\u001b[0m\u001b[0;34m,\u001b[0m \u001b[0mcreate_graph\u001b[0m\u001b[0;34m,\u001b[0m \u001b[0minputs\u001b[0m\u001b[0;34m,\u001b[0m\u001b[0;34m\u001b[0m\u001b[0;34m\u001b[0m\u001b[0m\n\u001b[0;32m--> 147\u001b[0;31m         allow_unreachable=True, accumulate_grad=True)  # allow_unreachable flag\n\u001b[0m\u001b[1;32m    148\u001b[0m \u001b[0;34m\u001b[0m\u001b[0m\n\u001b[1;32m    149\u001b[0m \u001b[0;34m\u001b[0m\u001b[0m\n",
      "\u001b[0;31mRuntimeError\u001b[0m: CUDA out of memory. Tried to allocate 1.72 GiB (GPU 1; 23.70 GiB total capacity; 15.94 GiB already allocated; 568.69 MiB free; 16.24 GiB reserved in total by PyTorch)"
     ]
    }
   ],
   "source": [
    "train()"
   ]
  },
  {
   "cell_type": "code",
   "execution_count": 16,
   "metadata": {},
   "outputs": [],
   "source": [
    "cor_set = np.load(\"/home/caofan/RAF/crystal_WT/test/deepNN/cor_set.npy\", allow_pickle=True)\n",
    "potential = np.load(\"/home/caofan/RAF/crystal_WT/test/deepNN/potential.npy\", allow_pickle=True)"
   ]
  },
  {
   "cell_type": "code",
   "execution_count": 17,
   "metadata": {},
   "outputs": [],
   "source": [
    "num = 3125\n",
    "for i in range(1, 41):\n",
    "    cor = cor_set[num*(i-1):num*i]\n",
    "    pot = potential[num*(i-1):num*i]\n",
    "    np.save(\"/home/caofan/RAF/crystal_WT/test/deepNN/cor_set_{0}.npy\".format(i), cor)\n",
    "    np.save(\"/home/caofan/RAF/crystal_WT/test/deepNN/potential_{0}.npy\".format(i), pot)"
   ]
  },
  {
   "cell_type": "code",
   "execution_count": 6,
   "metadata": {},
   "outputs": [
    {
     "name": "stdout",
     "output_type": "stream",
     "text": [
      "Total number of paramerters in networks is 130177  \n"
     ]
    }
   ],
   "source": [
    "print(\"Total number of paramerters in networks is {}  \".format(sum(x.numel() for x in cfnet.parameters())))"
   ]
  },
  {
   "cell_type": "code",
   "execution_count": 9,
   "metadata": {},
   "outputs": [
    {
     "name": "stdout",
     "output_type": "stream",
     "text": [
      "130177\n"
     ]
    }
   ],
   "source": [
    "total = sum([param.nelement() for param in cfnet.parameters()])\n",
    "print(total)"
   ]
  },
  {
   "cell_type": "code",
   "execution_count": null,
   "metadata": {},
   "outputs": [],
   "source": []
  }
 ],
 "metadata": {
  "kernelspec": {
   "display_name": "Python 3",
   "language": "python",
   "name": "python3"
  },
  "language_info": {
   "codemirror_mode": {
    "name": "ipython",
    "version": 3
   },
   "file_extension": ".py",
   "mimetype": "text/x-python",
   "name": "python",
   "nbconvert_exporter": "python",
   "pygments_lexer": "ipython3",
   "version": "3.7.9"
  }
 },
 "nbformat": 4,
 "nbformat_minor": 4
}
